{
 "cells": [
  {
   "cell_type": "markdown",
   "metadata": {},
   "source": [
    "# **Tema del Proyecto: Predicción de Usuarios Diarios en una Página Web** **(10 pts)**\n",
    "\n",
    "### **Descripción del Problema:**\n",
    "El objetivo de este proyecto es desarrollar un modelo de Machine Learning que pueda predecir la cantidad de usuarios que visitarán una página web de TheBridge de forma diaria para el próximo mes o semana, según la elección del usuario.\n",
    "\n",
    "### **Pasos a Seguir:**\n",
    "\n",
    "* ##### **Crear una Base de Datos Local:** *(0.5 pts)*\n",
    "Crear una base de datos local en la que almacenarás los datos descargados de Google Analytics para la página web de TheBridge. Utiliza un sistema de gestión de bases de datos como SQLite, MySQL o PostgreSQL.\n",
    "\n",
    "* ##### **Descargar Datos de Google Analytics :** *(La data se proporciona en el ejercicio)*\n",
    "Descargar un conjunto de datos de muestra que simule los datos de Google Analytics para la página web de TheBridge. Estos datos deben incluir información sobre las visitas diarias a la página web, con tema del Proyecto: Predicción de Usuarios Diarios en una Página Web\n",
    "\n",
    "* ##### **Encapsular en una Función/Script:** *(1 pt)*\n",
    "\n",
    "Encapsular todo el proceso de creación de la base de datos y la ingestión de datos en una función o script reutilizable. Esto permitirá que el proceso se realice de manera automatizada cada vez que sea necesario actualizar la base de datos con nuevos datos de Google Analytics.\n",
    "\n",
    "* #####  **Entrenar el Modelo de Predicción:** *(3 pts (MAE < 20%))*\n",
    "\n",
    "Utilizar los datos históricos almacenados en la base de datos local para entrenar un modelo de predicción. Puedes utilizar algoritmos de regresión, series temporales u otros enfoques de Machine Learning.\n",
    "\n",
    "* ##### **Realizar Predicciones:** *(1 pt)*\n",
    "\n",
    "Desarrollar una funcionalidad que permita ingresar la fecha para la cual se desea predecir el número de usuarios en la página web de TheBridge. El modelo utilizará los últimos datos disponibles para hacer la predicción.\n",
    "\n",
    "\n",
    "* ##### **Evaluar el Modelo:** *(Dentro de entrenamiento del modelo)*\n",
    "\n",
    "Evaluar el rendimiento del modelo utilizando una métrica como el Error Porcentual Absoluto Medio (MAPE). El objetivo es lograr un MAPE en el conjunto de prueba que no supere el 20%.\n",
    "\n",
    "* ##### **Encapsular el Entrenamiento del Modelo:** *(1.5 pt)*\n",
    "\n",
    "Encapsular el proceso de entrenamiento del modelo en una función o script separado que pueda ejecutarse de forma mensual para actualizar el modelo con los últimos datos recopilados.\n",
    "\n",
    "* ##### **Despliegue del modelo:** *(1 pt)*\n",
    "\n",
    "Despliega el modelo en un servidor externo (Como pythonanywhere), debe contar con un endpoint que permita realizar predicciones a partir del modelo creado.\n",
    "\n",
    "* ##### **Informe y Presentación:** *(2 pt)*\n",
    "\n",
    "Preparar un informe que incluya un notebook (.ipynb), que describa todo el proceso, desde la creación de la base de datos hasta la implementación del modelo, específicamente para la página web de TheBridge. Presentar los resultados y conclusiones de la predicción de usuarios diarios.\n",
    "\n",
    "Este proyecto permitirá aplicar conocimientos en Machine Learning y bases de datos para abordar un problema real de predicción basado en datos de Google Analytics para la página web de TheBridge. Además, brinda la oportunidad de desarrollar habilidades de automatización."
   ]
  }
 ],
 "metadata": {
  "language_info": {
   "name": "python"
  },
  "orig_nbformat": 4
 },
 "nbformat": 4,
 "nbformat_minor": 2
}
